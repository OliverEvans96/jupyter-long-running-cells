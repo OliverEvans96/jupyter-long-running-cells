{
 "cells": [
  {
   "cell_type": "markdown",
   "metadata": {},
   "source": [
    "# Long-Running Notebook Tasks\n",
    "\n",
    "Assume that you're working on a notebook that contains\n",
    "1. a long-running computation\n",
    "2. a visualization.\n",
    "\n",
    "You run the long computation, get the results, and plot the visualization.\n",
    "You realize that your parameters weren't quite right, so you want to run the long computation again.\n",
    "But you also want to tweak some aspects of the visualization while it's running.\n",
    "\n",
    "Since a notebook can only execute one cell at a time, once you start the long-running computation, you won't be able to re-run the visualization cells to see your updates.\n",
    "\n",
    "In this notebook, I'll demonstrate one way to address this issue using multi-threading and futures (a.k.a. promises)."
   ]
  },
  {
   "cell_type": "markdown",
   "metadata": {},
   "source": [
    "## Imports"
   ]
  },
  {
   "cell_type": "code",
   "execution_count": 1,
   "metadata": {},
   "outputs": [],
   "source": [
    "import concurrent.futures as cf\n",
    "from datetime import datetime\n",
    "from collections import OrderedDict\n",
    "import time\n",
    "\n",
    "import numpy as np\n",
    "import matplotlib.pyplot as plt"
   ]
  },
  {
   "cell_type": "markdown",
   "metadata": {},
   "source": [
    "## Global variables"
   ]
  },
  {
   "cell_type": "code",
   "execution_count": 2,
   "metadata": {},
   "outputs": [],
   "source": [
    "# Create a thread pool to manage the execution of background tasks\n",
    "pool = cf.ThreadPoolExecutor()\n",
    "# Create a dictionary to store the results, keyed by timestamp.\n",
    "# I'm using an OrderedDict just to make it easier to fetch the last result automatically.\n",
    "futures_dict = OrderedDict()"
   ]
  },
  {
   "cell_type": "markdown",
   "metadata": {},
   "source": [
    "## Function definitions"
   ]
  },
  {
   "cell_type": "markdown",
   "metadata": {},
   "source": [
    "This is the actual computation. It will take a long time for this function to return."
   ]
  },
  {
   "cell_type": "code",
   "execution_count": 3,
   "metadata": {},
   "outputs": [],
   "source": [
    "def long_computation(x, noise_magnitude):\n",
    "    noise = noise_magnitude * np.random.rand(len(x))\n",
    "    y = np.sin(x) + noise\n",
    "    # Pretend this takes a long time\n",
    "    time.sleep(10)\n",
    "    return y"
   ]
  },
  {
   "cell_type": "markdown",
   "metadata": {},
   "source": [
    "This is a wrapper that \n",
    "1. launches the actual computation in a background thread\n",
    "2. gets the current time\n",
    "3. stores a future corresponding to the computation in the global dictionary.\n",
    "\n",
    "This function returns immediately after it's called with a future that can be used\n",
    "to check the state of the computation (with fut.done()) and get the result when it's finished (with fut.result())."
   ]
  },
  {
   "cell_type": "code",
   "execution_count": 4,
   "metadata": {},
   "outputs": [],
   "source": [
    "def run_computation(x, noise_magnitude):\n",
    "    # Immediately get a future to return. Don't have to wait for the long computation to finish.\n",
    "    future = pool.submit(long_computation, x, noise_magnitude)\n",
    "    # Use the current timestamp as the dictionary key\n",
    "    key = datetime.now().isoformat()\n",
    "    # Save this for later\n",
    "    futures_dict[key] = future"
   ]
  },
  {
   "cell_type": "markdown",
   "metadata": {},
   "source": [
    "This is just a utility function to get the last element that matches some criteria.\n",
    "\n",
    "In our case, we'll use it to automatically get the latest completed result of the long-running computation."
   ]
  },
  {
   "cell_type": "code",
   "execution_count": 5,
   "metadata": {},
   "outputs": [],
   "source": [
    "def find_last(criteria, iterator):\n",
    "    return next(filter(criteria, reversed(iterator)))"
   ]
  },
  {
   "cell_type": "markdown",
   "metadata": {},
   "source": [
    "## Example Usage Instructions\n",
    "\n",
    "1. Run the computation.\n",
    "2. Wait for it to finish.\n",
    "3. Change `noise_magnitude` and run the computation again.\n",
    "4. Change the visualization (e.g. `color='blue'`) and re-display it with the results of the computation from step 1 while the computation from step 3 is still running.\n",
    "5. Once the computation from step 3 is finished, re-run the visualization cell, which should now show the results of the computation from step 3."
   ]
  },
  {
   "cell_type": "markdown",
   "metadata": {},
   "source": [
    "### Run the computation"
   ]
  },
  {
   "cell_type": "code",
   "execution_count": 6,
   "metadata": {},
   "outputs": [],
   "source": [
    "x = np.linspace(0, 5, 501)"
   ]
  },
  {
   "cell_type": "markdown",
   "metadata": {},
   "source": [
    "This cell will launch the computation in the background\n",
    "and return immediately without blocking the notebook"
   ]
  },
  {
   "cell_type": "code",
   "execution_count": 7,
   "metadata": {},
   "outputs": [],
   "source": [
    "noise_magnitude = 0.5\n",
    "run_computation(x, noise_magnitude)"
   ]
  },
  {
   "cell_type": "markdown",
   "metadata": {},
   "source": [
    "### View the runs\n",
    "Re-run this cell to see the status of all the computations you've launched"
   ]
  },
  {
   "cell_type": "code",
   "execution_count": 11,
   "metadata": {},
   "outputs": [
    {
     "data": {
      "text/plain": [
       "OrderedDict([('2021-03-25T01:05:50.588361',\n",
       "              <Future at 0x7f047db768d0 state=finished returned ndarray>),\n",
       "             ('2021-03-25T01:06:08.569962',\n",
       "              <Future at 0x7f047e64ddd0 state=running>)])"
      ]
     },
     "execution_count": 11,
     "metadata": {},
     "output_type": "execute_result"
    }
   ],
   "source": [
    "futures_dict"
   ]
  },
  {
   "cell_type": "markdown",
   "metadata": {},
   "source": [
    "### Visualization\n",
    "Since the long-running computation doesn't block other cells from be executing,\n",
    "this cell can be edited and re-run while you're waiting for the new version of the computation to finish. \n",
    "\n",
    "It will always use the most recent results available. If no results are available yet, it will produce a `StopIteration` exception."
   ]
  },
  {
   "cell_type": "code",
   "execution_count": 12,
   "metadata": {},
   "outputs": [
    {
     "data": {
      "text/plain": [
       "Text(0.5,1,'2021-03-25T01:05:50.588361')"
      ]
     },
     "execution_count": 12,
     "metadata": {},
     "output_type": "execute_result"
    },
    {
     "data": {
      "image/png": "[encoded data removed]",
      "text/plain": [
       "<Figure size 432x288 with 1 Axes>"
      ]
     },
     "metadata": {
      "needs_background": "light"
     },
     "output_type": "display_data"
    }
   ],
   "source": [
    "# Get the most recent result\n",
    "latest_key, latest_fut = find_last(lambda pair: pair[1].done(), futures_dict.items())\n",
    "latest_result = latest_fut.result()\n",
    "\n",
    "# Plot it\n",
    "plt.plot(x, latest_result, color='red')\n",
    "plt.title(latest_key)"
   ]
  }
 ],
 "metadata": {
  "kernelspec": {
   "display_name": "Python 3",
   "language": "python",
   "name": "python3"
  },
  "language_info": {
   "codemirror_mode": {
    "name": "ipython",
    "version": 3
   },
   "file_extension": ".py",
   "mimetype": "text/x-python",
   "name": "python",
   "nbconvert_exporter": "python",
   "pygments_lexer": "ipython3",
   "version": "3.7.7"
  },
  "widgets": {
   "application/vnd.jupyter.widget-state+json": {
    "state": {},
    "version_major": 2,
    "version_minor": 0
   }
  }
 },
 "nbformat": 4,
 "nbformat_minor": 4
}
